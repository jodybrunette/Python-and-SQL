{
 "cells": [
  {
   "cell_type": "markdown",
   "metadata": {
    "collapsed": true
   },
   "source": [
    "# Chinook Database \n",
    "\n",
    "The Chinook database schema is:\n",
    "![Image](https://www.basedonstatistics.com/wp-content/uploads/2018/06/chnk.png :\"schema\")\n"
   ]
  },
  {
   "cell_type": "markdown",
   "metadata": {},
   "source": [
    "## Importing Modules and Creating Helper Functions\n",
    "Importing SQLite, pandads, and matplotlib modules"
   ]
  },
  {
   "cell_type": "code",
   "execution_count": 1,
   "metadata": {
    "collapsed": true
   },
   "outputs": [],
   "source": [
    "import sqlite3\n",
    "import pandas as pd\n",
    "import matplotlib.pyplot as plt\n",
    "%matplotlib inline\n"
   ]
  },
  {
   "cell_type": "markdown",
   "metadata": {},
   "source": [
    "creating a `run_query()` function that takes a SQL query as an argument and returns a pandas dataframe of that query"
   ]
  },
  {
   "cell_type": "code",
   "execution_count": 2,
   "metadata": {
    "collapsed": true
   },
   "outputs": [],
   "source": [
    "def run_query(q):\n",
    "    with sqlite3.connect('chinook.db') as conn:\n",
    "        return pd.read_sql(q, conn)"
   ]
  },
  {
   "cell_type": "markdown",
   "metadata": {},
   "source": [
    "creating a `run_command()` function that takes a SQL command as an argument and executes it using the sqlite module. "
   ]
  },
  {
   "cell_type": "code",
   "execution_count": 3,
   "metadata": {
    "collapsed": true
   },
   "outputs": [],
   "source": [
    "def run_command(c):\n",
    "    with sqlite3.connect('chinook.db') as conn:\n",
    "        conn.isolation_level = None\n",
    "        conn.execute(c)"
   ]
  },
  {
   "cell_type": "markdown",
   "metadata": {},
   "source": [
    "creating a `show_tables()` function that calls the `run_query()` function to return a list of all tables and views in the database."
   ]
  },
  {
   "cell_type": "code",
   "execution_count": 4,
   "metadata": {
    "collapsed": true
   },
   "outputs": [],
   "source": [
    "def show_tables():\n",
    "    q= '''\n",
    "        SELECT\n",
    "            name, \n",
    "            type\n",
    "        FROM sqlite_master\n",
    "        WHERE type IN ('table', 'view');\n",
    "        '''\n",
    "    return run_query(q)"
   ]
  },
  {
   "cell_type": "markdown",
   "metadata": {},
   "source": [
    "The views and tables that exist in the database are:"
   ]
  },
  {
   "cell_type": "code",
   "execution_count": 5,
   "metadata": {},
   "outputs": [
    {
     "data": {
      "text/html": [
       "<div>\n",
       "<style scoped>\n",
       "    .dataframe tbody tr th:only-of-type {\n",
       "        vertical-align: middle;\n",
       "    }\n",
       "\n",
       "    .dataframe tbody tr th {\n",
       "        vertical-align: top;\n",
       "    }\n",
       "\n",
       "    .dataframe thead th {\n",
       "        text-align: right;\n",
       "    }\n",
       "</style>\n",
       "<table border=\"1\" class=\"dataframe\">\n",
       "  <thead>\n",
       "    <tr style=\"text-align: right;\">\n",
       "      <th></th>\n",
       "      <th>name</th>\n",
       "      <th>type</th>\n",
       "    </tr>\n",
       "  </thead>\n",
       "  <tbody>\n",
       "    <tr>\n",
       "      <th>0</th>\n",
       "      <td>album</td>\n",
       "      <td>table</td>\n",
       "    </tr>\n",
       "    <tr>\n",
       "      <th>1</th>\n",
       "      <td>artist</td>\n",
       "      <td>table</td>\n",
       "    </tr>\n",
       "    <tr>\n",
       "      <th>2</th>\n",
       "      <td>customer</td>\n",
       "      <td>table</td>\n",
       "    </tr>\n",
       "    <tr>\n",
       "      <th>3</th>\n",
       "      <td>employee</td>\n",
       "      <td>table</td>\n",
       "    </tr>\n",
       "    <tr>\n",
       "      <th>4</th>\n",
       "      <td>genre</td>\n",
       "      <td>table</td>\n",
       "    </tr>\n",
       "    <tr>\n",
       "      <th>5</th>\n",
       "      <td>invoice</td>\n",
       "      <td>table</td>\n",
       "    </tr>\n",
       "    <tr>\n",
       "      <th>6</th>\n",
       "      <td>invoice_line</td>\n",
       "      <td>table</td>\n",
       "    </tr>\n",
       "    <tr>\n",
       "      <th>7</th>\n",
       "      <td>media_type</td>\n",
       "      <td>table</td>\n",
       "    </tr>\n",
       "    <tr>\n",
       "      <th>8</th>\n",
       "      <td>playlist</td>\n",
       "      <td>table</td>\n",
       "    </tr>\n",
       "    <tr>\n",
       "      <th>9</th>\n",
       "      <td>playlist_track</td>\n",
       "      <td>table</td>\n",
       "    </tr>\n",
       "    <tr>\n",
       "      <th>10</th>\n",
       "      <td>track</td>\n",
       "      <td>table</td>\n",
       "    </tr>\n",
       "  </tbody>\n",
       "</table>\n",
       "</div>"
      ],
      "text/plain": [
       "              name   type\n",
       "0            album  table\n",
       "1           artist  table\n",
       "2         customer  table\n",
       "3         employee  table\n",
       "4            genre  table\n",
       "5          invoice  table\n",
       "6     invoice_line  table\n",
       "7       media_type  table\n",
       "8         playlist  table\n",
       "9   playlist_track  table\n",
       "10           track  table"
      ]
     },
     "execution_count": 5,
     "metadata": {},
     "output_type": "execute_result"
    }
   ],
   "source": [
    "show_tables()"
   ]
  },
  {
   "cell_type": "markdown",
   "metadata": {
    "collapsed": true
   },
   "source": [
    "The Chinook record store has just signed a deal with a new record label, and we've been tasked with selecting the first three albums that will be added to the store, from a list of four. All four albums are by artists that don't have any tracks in the store right now. We have the artist names, and the genre of music they produce:\n",
    "\n",
    "| Artist Name | Genre |\n",
    "| --- | --- |\n",
    "| Regal | Hip-Hop |\n",
    "| Red Tone | Punk |\n",
    "| Meteor and the Girls |  Pop |\n",
    "|Slim Jim Bites | Blues |\n",
    "\n",
    "The record label specializes in artists from the USA, and they have given Chinook some money to advertise the new albums in the USA, so we're interested in finding out which genres sell the best in the USA.\n",
    "\n",
    "We'll write a query to find out which genres sell the most tracks in the USA, and then create a visualization of that data using pandas.\n",
    "\n",
    "## Determining Which Albums to Purchase\n"
   ]
  },
  {
   "cell_type": "code",
   "execution_count": 6,
   "metadata": {},
   "outputs": [
    {
     "data": {
      "text/html": [
       "<div>\n",
       "<style scoped>\n",
       "    .dataframe tbody tr th:only-of-type {\n",
       "        vertical-align: middle;\n",
       "    }\n",
       "\n",
       "    .dataframe tbody tr th {\n",
       "        vertical-align: top;\n",
       "    }\n",
       "\n",
       "    .dataframe thead th {\n",
       "        text-align: right;\n",
       "    }\n",
       "</style>\n",
       "<table border=\"1\" class=\"dataframe\">\n",
       "  <thead>\n",
       "    <tr style=\"text-align: right;\">\n",
       "      <th></th>\n",
       "      <th>genre</th>\n",
       "      <th>tracks_sold</th>\n",
       "      <th>percentage_sold</th>\n",
       "    </tr>\n",
       "  </thead>\n",
       "  <tbody>\n",
       "    <tr>\n",
       "      <th>0</th>\n",
       "      <td>Rock</td>\n",
       "      <td>561</td>\n",
       "      <td>53.377735</td>\n",
       "    </tr>\n",
       "    <tr>\n",
       "      <th>1</th>\n",
       "      <td>Alternative &amp; Punk</td>\n",
       "      <td>130</td>\n",
       "      <td>12.369172</td>\n",
       "    </tr>\n",
       "    <tr>\n",
       "      <th>2</th>\n",
       "      <td>Metal</td>\n",
       "      <td>124</td>\n",
       "      <td>11.798287</td>\n",
       "    </tr>\n",
       "    <tr>\n",
       "      <th>3</th>\n",
       "      <td>R&amp;B/Soul</td>\n",
       "      <td>53</td>\n",
       "      <td>5.042816</td>\n",
       "    </tr>\n",
       "    <tr>\n",
       "      <th>4</th>\n",
       "      <td>Blues</td>\n",
       "      <td>36</td>\n",
       "      <td>3.425309</td>\n",
       "    </tr>\n",
       "    <tr>\n",
       "      <th>5</th>\n",
       "      <td>Alternative</td>\n",
       "      <td>35</td>\n",
       "      <td>3.330162</td>\n",
       "    </tr>\n",
       "    <tr>\n",
       "      <th>6</th>\n",
       "      <td>Latin</td>\n",
       "      <td>22</td>\n",
       "      <td>2.093245</td>\n",
       "    </tr>\n",
       "    <tr>\n",
       "      <th>7</th>\n",
       "      <td>Pop</td>\n",
       "      <td>22</td>\n",
       "      <td>2.093245</td>\n",
       "    </tr>\n",
       "    <tr>\n",
       "      <th>8</th>\n",
       "      <td>Hip Hop/Rap</td>\n",
       "      <td>20</td>\n",
       "      <td>1.902950</td>\n",
       "    </tr>\n",
       "    <tr>\n",
       "      <th>9</th>\n",
       "      <td>Jazz</td>\n",
       "      <td>14</td>\n",
       "      <td>1.332065</td>\n",
       "    </tr>\n",
       "    <tr>\n",
       "      <th>10</th>\n",
       "      <td>Easy Listening</td>\n",
       "      <td>13</td>\n",
       "      <td>1.236917</td>\n",
       "    </tr>\n",
       "    <tr>\n",
       "      <th>11</th>\n",
       "      <td>Reggae</td>\n",
       "      <td>6</td>\n",
       "      <td>0.570885</td>\n",
       "    </tr>\n",
       "    <tr>\n",
       "      <th>12</th>\n",
       "      <td>Electronica/Dance</td>\n",
       "      <td>5</td>\n",
       "      <td>0.475737</td>\n",
       "    </tr>\n",
       "    <tr>\n",
       "      <th>13</th>\n",
       "      <td>Classical</td>\n",
       "      <td>4</td>\n",
       "      <td>0.380590</td>\n",
       "    </tr>\n",
       "    <tr>\n",
       "      <th>14</th>\n",
       "      <td>Heavy Metal</td>\n",
       "      <td>3</td>\n",
       "      <td>0.285442</td>\n",
       "    </tr>\n",
       "  </tbody>\n",
       "</table>\n",
       "</div>"
      ],
      "text/plain": [
       "                 genre  tracks_sold  percentage_sold\n",
       "0                 Rock          561        53.377735\n",
       "1   Alternative & Punk          130        12.369172\n",
       "2                Metal          124        11.798287\n",
       "3             R&B/Soul           53         5.042816\n",
       "4                Blues           36         3.425309\n",
       "5          Alternative           35         3.330162\n",
       "6                Latin           22         2.093245\n",
       "7                  Pop           22         2.093245\n",
       "8          Hip Hop/Rap           20         1.902950\n",
       "9                 Jazz           14         1.332065\n",
       "10      Easy Listening           13         1.236917\n",
       "11              Reggae            6         0.570885\n",
       "12   Electronica/Dance            5         0.475737\n",
       "13           Classical            4         0.380590\n",
       "14         Heavy Metal            3         0.285442"
      ]
     },
     "execution_count": 6,
     "metadata": {},
     "output_type": "execute_result"
    }
   ],
   "source": [
    "usa_genre_stats = '''\n",
    "    WITH tracks_purchased_from_usa AS (\n",
    "        SELECT il.* FROM invoice_line il\n",
    "        INNER JOIN invoice i ON i.invoice_id = il.invoice_id\n",
    "        INNER JOIN customer c ON c.customer_id = i.customer_id\n",
    "        WHERE c.country = \"USA\" )\n",
    "    \n",
    "    SELECT\n",
    "        g.name genre,\n",
    "        COUNT(tpusa.invoice_line_id) tracks_sold,\n",
    "        CAST(COUNT(tpusa.invoice_line_id) AS FLOAT)/(SELECT COUNT(*) FROM tracks_purchased_from_usa)*100 percentage_sold\n",
    "    FROM tracks_purchased_from_usa tpusa\n",
    "    INNER JOIN track t ON t.track_id = tpusa.track_id\n",
    "    INNER JOIN genre g ON g.genre_id = t.genre_id\n",
    "    GROUP BY 1\n",
    "    ORDER BY 2 DESC\n",
    "    LIMIT 15\n",
    "    '''\n",
    "run_query(usa_genre_stats)"
   ]
  },
  {
   "cell_type": "code",
   "execution_count": 7,
   "metadata": {
    "scrolled": true
   },
   "outputs": [
    {
     "data": {
      "image/png": "[encoded data removed]",
      "text/plain": [
       "<matplotlib.figure.Figure at 0x7f8dbc0fabe0>"
      ]
     },
     "metadata": {},
     "output_type": "display_data"
    }
   ],
   "source": [
    "usa_track_stats = run_query(usa_genre_stats)\n",
    "usa_track_stats.set_index('genre', inplace = True, drop = True)\n",
    "\n",
    "usa_track_stats['tracks_sold'].plot.bar (title = \"Top selling Genres in the USA\")\n",
    "plt.show()\n"
   ]
  },
  {
   "cell_type": "markdown",
   "metadata": {},
   "source": [
    "The above plot shows the amount of tracks sold in the USA from greatest to least by genre. Given the genres for the albums that we can chose from are Hip-Hop, Punk, Pop, and Blues, Hip-Hop is the least popular(though, by a small margin) of these choices accounting for approximately 2% of sales. \n",
    "Chosing the Punk, Pop, and Blues genres will account for approximately 18% of sales combined. \n",
    "\n",
    "| Artist Name | Genre | Percentage of USA Sales\n",
    "| --- | --- |---\n",
    "| Red Tone | Punk | 12.37\n",
    "|Slim Jim Bites | Blues | 3.43\n",
    "| Meteor and the Girls |  Pop | 2.10\n",
    "\n"
   ]
  },
  {
   "cell_type": "markdown",
   "metadata": {},
   "source": [
    "## Sales per Employee\n",
    "\n",
    "Each customer for the Chinook store gets assigned to a sales support agent within the company when they first make a purchase. We can analyze the purchases of customers belonging to each employee to see if any sales support agent is performing either better or worse than the others.\n"
   ]
  },
  {
   "cell_type": "code",
   "execution_count": 8,
   "metadata": {},
   "outputs": [
    {
     "data": {
      "text/html": [
       "<div>\n",
       "<style scoped>\n",
       "    .dataframe tbody tr th:only-of-type {\n",
       "        vertical-align: middle;\n",
       "    }\n",
       "\n",
       "    .dataframe tbody tr th {\n",
       "        vertical-align: top;\n",
       "    }\n",
       "\n",
       "    .dataframe thead th {\n",
       "        text-align: right;\n",
       "    }\n",
       "</style>\n",
       "<table border=\"1\" class=\"dataframe\">\n",
       "  <thead>\n",
       "    <tr style=\"text-align: right;\">\n",
       "      <th></th>\n",
       "      <th>employee_name</th>\n",
       "      <th>date_hired</th>\n",
       "      <th>supervisor</th>\n",
       "      <th>sales_total</th>\n",
       "    </tr>\n",
       "  </thead>\n",
       "  <tbody>\n",
       "    <tr>\n",
       "      <th>0</th>\n",
       "      <td>Jane Peacock</td>\n",
       "      <td>2017-04-01 00:00:00</td>\n",
       "      <td>2</td>\n",
       "      <td>1731.51</td>\n",
       "    </tr>\n",
       "    <tr>\n",
       "      <th>1</th>\n",
       "      <td>Margaret Park</td>\n",
       "      <td>2017-05-03 00:00:00</td>\n",
       "      <td>2</td>\n",
       "      <td>1584.00</td>\n",
       "    </tr>\n",
       "    <tr>\n",
       "      <th>2</th>\n",
       "      <td>Steve Johnson</td>\n",
       "      <td>2017-10-17 00:00:00</td>\n",
       "      <td>2</td>\n",
       "      <td>1393.92</td>\n",
       "    </tr>\n",
       "  </tbody>\n",
       "</table>\n",
       "</div>"
      ],
      "text/plain": [
       "   employee_name           date_hired  supervisor  sales_total\n",
       "0   Jane Peacock  2017-04-01 00:00:00           2      1731.51\n",
       "1  Margaret Park  2017-05-03 00:00:00           2      1584.00\n",
       "2  Steve Johnson  2017-10-17 00:00:00           2      1393.92"
      ]
     },
     "execution_count": 8,
     "metadata": {},
     "output_type": "execute_result"
    }
   ],
   "source": [
    "sales_rep_totals = '''\n",
    "    SELECT \n",
    "        e.first_name || \" \" || e.last_name employee_name,\n",
    "        e.hire_date date_hired,\n",
    "        e.reports_to supervisor,\n",
    "        SUM(i.total) sales_total\n",
    "    FROM employee e\n",
    "    INNER JOIN customer c ON c.support_rep_id = e.employee_id\n",
    "    INNER JOIN invoice i ON i.customer_ID = c.customer_id\n",
    "    WHERE title = \"Sales Support Agent\"\n",
    "    GROUP BY employee_name\n",
    "    ORDER BY date_hired'''\n",
    "\n",
    "run_query (sales_rep_totals)"
   ]
  },
  {
   "cell_type": "code",
   "execution_count": 9,
   "metadata": {},
   "outputs": [
    {
     "data": {
      "image/png": "[encoded data removed]",
      "text/plain": [
       "<matplotlib.figure.Figure at 0x7f8dbc03b1d0>"
      ]
     },
     "metadata": {},
     "output_type": "display_data"
    }
   ],
   "source": [
    "sales_per_rep = run_query(sales_rep_totals)\n",
    "\n",
    "sales_per_rep.set_index('employee_name', inplace = True, drop = True)\n",
    "\n",
    "sales_per_rep.plot.barh(title = \"Total Sales By Employee\", legend = False)\n",
    "plt.show()\n"
   ]
  },
  {
   "cell_type": "markdown",
   "metadata": {},
   "source": [
    "Total amount of sales appears to correlate with length of time in the Sales Support Agent role. There is only a %20 percent difference between the top and bottom performers."
   ]
  },
  {
   "cell_type": "markdown",
   "metadata": {},
   "source": [
    "## Sales Data By Country\n",
    "Next we will analyze the sales data for customers from each different country using the country value from the customers table.\n",
    "We will examine:\n",
    "\n",
    "- total number of customers\n",
    "- total value of sales\n",
    "- average value of sales per customer\n",
    "- average order value\n",
    "\n",
    "For countries with only 1 customer, the data will be aggregated into a group named \"Other\""
   ]
  },
  {
   "cell_type": "code",
   "execution_count": 10,
   "metadata": {
    "scrolled": true
   },
   "outputs": [
    {
     "data": {
      "text/html": [
       "<div>\n",
       "<style scoped>\n",
       "    .dataframe tbody tr th:only-of-type {\n",
       "        vertical-align: middle;\n",
       "    }\n",
       "\n",
       "    .dataframe tbody tr th {\n",
       "        vertical-align: top;\n",
       "    }\n",
       "\n",
       "    .dataframe thead th {\n",
       "        text-align: right;\n",
       "    }\n",
       "</style>\n",
       "<table border=\"1\" class=\"dataframe\">\n",
       "  <thead>\n",
       "    <tr style=\"text-align: right;\">\n",
       "      <th></th>\n",
       "      <th>country</th>\n",
       "      <th>number_of_customers</th>\n",
       "      <th>total_sales_dollars</th>\n",
       "      <th>avg_sales_per_order</th>\n",
       "      <th>avg_sales_per_customer</th>\n",
       "    </tr>\n",
       "  </thead>\n",
       "  <tbody>\n",
       "    <tr>\n",
       "      <th>0</th>\n",
       "      <td>USA</td>\n",
       "      <td>13</td>\n",
       "      <td>1040.49</td>\n",
       "      <td>7.942672</td>\n",
       "      <td>80.037692</td>\n",
       "    </tr>\n",
       "    <tr>\n",
       "      <th>1</th>\n",
       "      <td>Canada</td>\n",
       "      <td>8</td>\n",
       "      <td>535.59</td>\n",
       "      <td>7.047237</td>\n",
       "      <td>66.948750</td>\n",
       "    </tr>\n",
       "    <tr>\n",
       "      <th>2</th>\n",
       "      <td>Brazil</td>\n",
       "      <td>5</td>\n",
       "      <td>427.68</td>\n",
       "      <td>7.011148</td>\n",
       "      <td>85.536000</td>\n",
       "    </tr>\n",
       "    <tr>\n",
       "      <th>3</th>\n",
       "      <td>France</td>\n",
       "      <td>5</td>\n",
       "      <td>389.07</td>\n",
       "      <td>7.781400</td>\n",
       "      <td>77.814000</td>\n",
       "    </tr>\n",
       "    <tr>\n",
       "      <th>4</th>\n",
       "      <td>Germany</td>\n",
       "      <td>4</td>\n",
       "      <td>334.62</td>\n",
       "      <td>8.161463</td>\n",
       "      <td>83.655000</td>\n",
       "    </tr>\n",
       "    <tr>\n",
       "      <th>5</th>\n",
       "      <td>Czech Republic</td>\n",
       "      <td>2</td>\n",
       "      <td>273.24</td>\n",
       "      <td>9.108000</td>\n",
       "      <td>136.620000</td>\n",
       "    </tr>\n",
       "    <tr>\n",
       "      <th>6</th>\n",
       "      <td>United Kingdom</td>\n",
       "      <td>3</td>\n",
       "      <td>245.52</td>\n",
       "      <td>8.768571</td>\n",
       "      <td>81.840000</td>\n",
       "    </tr>\n",
       "    <tr>\n",
       "      <th>7</th>\n",
       "      <td>Portugal</td>\n",
       "      <td>2</td>\n",
       "      <td>185.13</td>\n",
       "      <td>6.383793</td>\n",
       "      <td>92.565000</td>\n",
       "    </tr>\n",
       "    <tr>\n",
       "      <th>8</th>\n",
       "      <td>India</td>\n",
       "      <td>2</td>\n",
       "      <td>183.15</td>\n",
       "      <td>8.721429</td>\n",
       "      <td>91.575000</td>\n",
       "    </tr>\n",
       "    <tr>\n",
       "      <th>9</th>\n",
       "      <td>Other</td>\n",
       "      <td>15</td>\n",
       "      <td>1094.94</td>\n",
       "      <td>7.448571</td>\n",
       "      <td>72.996000</td>\n",
       "    </tr>\n",
       "  </tbody>\n",
       "</table>\n",
       "</div>"
      ],
      "text/plain": [
       "          country  number_of_customers  total_sales_dollars  \\\n",
       "0             USA                   13              1040.49   \n",
       "1          Canada                    8               535.59   \n",
       "2          Brazil                    5               427.68   \n",
       "3          France                    5               389.07   \n",
       "4         Germany                    4               334.62   \n",
       "5  Czech Republic                    2               273.24   \n",
       "6  United Kingdom                    3               245.52   \n",
       "7        Portugal                    2               185.13   \n",
       "8           India                    2               183.15   \n",
       "9           Other                   15              1094.94   \n",
       "\n",
       "   avg_sales_per_order  avg_sales_per_customer  \n",
       "0             7.942672               80.037692  \n",
       "1             7.047237               66.948750  \n",
       "2             7.011148               85.536000  \n",
       "3             7.781400               77.814000  \n",
       "4             8.161463               83.655000  \n",
       "5             9.108000              136.620000  \n",
       "6             8.768571               81.840000  \n",
       "7             6.383793               92.565000  \n",
       "8             8.721429               91.575000  \n",
       "9             7.448571               72.996000  "
      ]
     },
     "execution_count": 10,
     "metadata": {},
     "output_type": "execute_result"
    }
   ],
   "source": [
    "## first creating a table with the country column to include 'Other' in the case of only 1 customer\n",
    "# then selecting our analytics\n",
    "# the sort column allows the \"Other\" grouping to be sorted to the bottom of our table\n",
    "\n",
    "customer_country_sales = '''\n",
    "WITH customer_country_data AS (\n",
    "        SELECT\n",
    "            CASE\n",
    "                WHEN (SELECT count(*)\n",
    "                    FROM customer\n",
    "                    WHERE country = c.country\n",
    "                    ) = 1 THEN \"Other\"\n",
    "               ELSE c.country\n",
    "               END AS country,\n",
    "            c.customer_id, \n",
    "            i.total,\n",
    "            i.invoice_id\n",
    "            \n",
    "        FROM customer c\n",
    "        INNER JOIN invoice i ON i.customer_id = c.customer_id\n",
    "        )\n",
    "        \n",
    "\n",
    "SELECT\n",
    "    country,\n",
    "    number_of_customers,\n",
    "    total_sales_dollars,\n",
    "    avg_sales_per_order,\n",
    "    avg_sales_per_customer\n",
    "FROM\n",
    "(SELECT\n",
    "    country,\n",
    "    COUNT(DISTINCT customer_id) number_of_customers,\n",
    "    SUM(total) total_sales_dollars,\n",
    "    SUM(total)/ COUNT(invoice_id) avg_sales_per_order,\n",
    "    SUM(total)/COUNT(DISTINCT customer_id) avg_sales_per_customer,\n",
    "    CASE\n",
    "            WHEN country = \"Other\"\n",
    "                THEN 1\n",
    "            ELSE 0\n",
    "            END AS sort \n",
    "    FROM customer_country_data ccd\n",
    "    GROUP BY country\n",
    "    ORDER BY sort, total_sales_dollars DESC )\n",
    "    '''\n",
    "\n",
    "run_query(customer_country_sales)"
   ]
  },
  {
   "cell_type": "markdown",
   "metadata": {},
   "source": [
    "## Visualizing Sales Data by Country\n",
    "### Number of Customers Per Country\n",
    "### Percent customers vs. sales totals\n",
    "### Average order as a percentage difference from mean\n",
    "### Average sales per customer"
   ]
  },
  {
   "cell_type": "raw",
   "metadata": {},
   "source": [
    "sales_data = run_query(customer_country_sales)\n"
   ]
  },
  {
   "cell_type": "markdown",
   "metadata": {},
   "source": [
    "## Album Purchases vs. Track Purchases\n",
    "The Chinook store is setup in a way that allows customer to make purchases in one of the two ways:\n",
    "\n",
    "- purchase a whole album\n",
    "- purchase a collection of one or more individual tracks.\n",
    "\n",
    "The store does not let customers purchase a whole album, and then add individual tracks to that same purchase (unless they do that by choosing each track manually). When customers purchase albums they are charged the same price as if they had purchased each of those tracks separately.\n",
    "\n",
    "Management is considering changing their purchasing strategy to save money. The strategy they are considering is to purchase only the most popular tracks from each album from record companies instead of purchasing every track from an album.\n",
    "\n",
    "We will analyze what percentage of purchases are individual tracks vs. whole albums so that management can use this data to understand the effect this decision might have on overall revenue. In order to determine whether an album was purcahsed, we're going to have to identify whether each invoice has all the tracks from an album. We can do this by getting the list of tracks from an invoice and comparing it to the list of tracks from an album."
   ]
  },
  {
   "cell_type": "code",
   "execution_count": 21,
   "metadata": {},
   "outputs": [
    {
     "data": {
      "text/html": [
       "<div>\n",
       "<style scoped>\n",
       "    .dataframe tbody tr th:only-of-type {\n",
       "        vertical-align: middle;\n",
       "    }\n",
       "\n",
       "    .dataframe tbody tr th {\n",
       "        vertical-align: top;\n",
       "    }\n",
       "\n",
       "    .dataframe thead th {\n",
       "        text-align: right;\n",
       "    }\n",
       "</style>\n",
       "<table border=\"1\" class=\"dataframe\">\n",
       "  <thead>\n",
       "    <tr style=\"text-align: right;\">\n",
       "      <th></th>\n",
       "      <th>album_purchase</th>\n",
       "      <th>total_invoice_count</th>\n",
       "      <th>percent</th>\n",
       "    </tr>\n",
       "  </thead>\n",
       "  <tbody>\n",
       "    <tr>\n",
       "      <th>0</th>\n",
       "      <td>no</td>\n",
       "      <td>500</td>\n",
       "      <td>81.433225</td>\n",
       "    </tr>\n",
       "    <tr>\n",
       "      <th>1</th>\n",
       "      <td>yes</td>\n",
       "      <td>114</td>\n",
       "      <td>18.566775</td>\n",
       "    </tr>\n",
       "  </tbody>\n",
       "</table>\n",
       "</div>"
      ],
      "text/plain": [
       "  album_purchase  total_invoice_count    percent\n",
       "0             no                  500  81.433225\n",
       "1            yes                  114  18.566775"
      ]
     },
     "execution_count": 21,
     "metadata": {},
     "output_type": "execute_result"
    }
   ],
   "source": [
    "is_album = '''\n",
    "    WITH invoice_single_track AS\n",
    "        (SELECT \n",
    "            invoice_id,\n",
    "            MAX(track_id) track_from_album\n",
    "        FROM invoice_line il\n",
    "        GROUP BY invoice_id)\n",
    "        \n",
    "SELECT\n",
    "    album_purchase,\n",
    "    COUNT(invoice_id) total_invoice_count,\n",
    "    CAST(count(invoice_id) AS FLOAT) / (SELECT COUNT(*) FROM invoice)*100 percent\n",
    "FROM (\n",
    "    SELECT\n",
    "        ist.*,\n",
    "        CASE\n",
    "            WHEN (\n",
    "                SELECT \n",
    "                    track_id FROM track t\n",
    "                WHERE t.album_id = (\n",
    "                    SELECT album_id\n",
    "                    FROM track t\n",
    "                          WHERE t.track_id = ist.track_from_album )\n",
    "                EXCEPT\n",
    "                SELECT\n",
    "                    il.track_id\n",
    "                FROM invoice_line il\n",
    "                    WHERE il.invoice_id = ist.invoice_id\n",
    "                ) IS NULL\n",
    "            AND (\n",
    "                SELECT\n",
    "                    il.track_id\n",
    "                FROM invoice_line il\n",
    "                    WHERE il.invoice_id = ist.invoice_id\n",
    "                EXCEPT\n",
    "                SELECT \n",
    "                    track_id FROM track t\n",
    "                WHERE t.album_id = (\n",
    "                    SELECT album_id\n",
    "                    FROM track t\n",
    "                          WHERE t.track_id = ist.track_from_album )\n",
    "                )IS NULL\n",
    "            THEN 'yes'\n",
    "            ELSE 'no'\n",
    "            END AS album_purchase\n",
    "\n",
    "    FROM invoice_single_track ist)\n",
    "GROUP BY album_purchase\n",
    "                \n",
    "    '''\n",
    "run_query(is_album)"
   ]
  },
  {
   "cell_type": "markdown",
   "metadata": {},
   "source": [
    "From this data, we can see that approximately 18.8% of all purchases are album purchases. This equates to 1 in 5 purchases being an album purchase. By purchasing only select tracks from albums, the company could be at risk of loosing revenue on 1 in 5 purchases. "
   ]
  },
  {
   "cell_type": "markdown",
   "metadata": {},
   "source": [
    "FUTURE IDEAS for more analysis:\n",
    "- Which artist is used in the most playlists?\n",
    "- How many tracks have been purchased vs not purchased?\n",
    "- Is the range of tracks in the store reflective of their sales popularity?\n",
    "- Do protected vs non-protected media types have an effect on popularity?"
   ]
  }
 ],
 "metadata": {
  "kernelspec": {
   "display_name": "Python 3",
   "language": "python",
   "name": "python3"
  },
  "language_info": {
   "codemirror_mode": {
    "name": "ipython",
    "version": 3
   },
   "file_extension": ".py",
   "mimetype": "text/x-python",
   "name": "python",
   "nbconvert_exporter": "python",
   "pygments_lexer": "ipython3",
   "version": "3.7.1"
  }
 },
 "nbformat": 4,
 "nbformat_minor": 2
}
